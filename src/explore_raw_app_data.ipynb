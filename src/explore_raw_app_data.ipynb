{
 "cells": [
  {
   "cell_type": "code",
   "execution_count": 1,
   "metadata": {
    "ExecuteTime": {
     "end_time": "2021-03-22T15:55:50.313789Z",
     "start_time": "2021-03-22T15:55:50.113982Z"
    }
   },
   "outputs": [
    {
     "ename": "ModuleNotFoundError",
     "evalue": "No module named 'extract_csv_data'",
     "output_type": "error",
     "traceback": [
      "\u001b[0;31m---------------------------------------------------------------------------\u001b[0m",
      "\u001b[0;31mModuleNotFoundError\u001b[0m                       Traceback (most recent call last)",
      "\u001b[0;32m<ipython-input-1-b55b66c15ac3>\u001b[0m in \u001b[0;36m<module>\u001b[0;34m()\u001b[0m\n\u001b[0;32m----> 1\u001b[0;31m \u001b[0;32mfrom\u001b[0m \u001b[0mextract_csv_data\u001b[0m \u001b[0;32mimport\u001b[0m \u001b[0mextract_data\u001b[0m\u001b[0;34m\u001b[0m\u001b[0m\n\u001b[0m",
      "\u001b[0;31mModuleNotFoundError\u001b[0m: No module named 'extract_csv_data'"
     ]
    }
   ],
   "source": [
    "from extract_csv_data import extract_data"
   ]
  },
  {
   "cell_type": "markdown",
   "metadata": {},
   "source": [
    "## Exploring data from the Google Play app store"
   ]
  },
  {
   "cell_type": "code",
   "execution_count": null,
   "metadata": {
    "ExecuteTime": {
     "end_time": "2021-03-22T15:55:50.315427Z",
     "start_time": "2021-03-22T15:55:50.079Z"
    }
   },
   "outputs": [],
   "source": [
    "#   Where raw data (csv files) are located\n",
    "data_folder = '../data/'\n",
    "android_filename = 'googleplaystore.csv'\n",
    "android_filepath = data_folder + android_filename"
   ]
  },
  {
   "cell_type": "code",
   "execution_count": null,
   "metadata": {
    "ExecuteTime": {
     "end_time": "2021-03-22T15:55:50.318174Z",
     "start_time": "2021-03-22T15:55:50.082Z"
    }
   },
   "outputs": [],
   "source": [
    "def extract_app_data(delete=None):\n",
    "    print('Extacting Android app data...')\n",
    "    android_header, android_data = extract_data(android_filepath)\n",
    "    if error_row:\n",
    "        del android_data[delete]\n",
    "    return android_header, android_data"
   ]
  },
  {
   "cell_type": "code",
   "execution_count": null,
   "metadata": {
    "ExecuteTime": {
     "end_time": "2021-03-22T15:55:50.322673Z",
     "start_time": "2021-03-22T15:55:50.092Z"
    }
   },
   "outputs": [],
   "source": [
    "def explore_data(dataset, header, start, end,\n",
    "                               tag=None, rows_and_columns=False):\n",
    "    \"\"\"Explore data.\"\"\"\n",
    "    dataset_slice = dataset[start:end]\n",
    "    print(header)\n",
    "    print('\\n')\n",
    "    for row in dataset_slice:\n",
    "        print(row)\n",
    "        print('\\n')\n",
    "    if rows_and_columns:\n",
    "        if tag:\n",
    "            print('Number of rows in {} dataset: {}'.format(tag, len(dataset)))\n",
    "            print('Number of cols in {} dataset: {}'.format(tag, len(dataset[0])))\n",
    "        else:\n",
    "            print('Number of rows in this dataset: {}'.format(len(dataset)))\n",
    "            print('Number of cols in this dataset: {}'.format(len(dataset[0])))"
   ]
  },
  {
   "cell_type": "code",
   "execution_count": null,
   "metadata": {
    "ExecuteTime": {
     "end_time": "2021-03-22T15:55:50.325408Z",
     "start_time": "2021-03-22T15:55:50.101Z"
    }
   },
   "outputs": [],
   "source": [
    "#  For use in print statements\n",
    "android_tag = \"Android\"\n",
    "    \n",
    "#  Row to delete \n",
    "error_row = 10472\n",
    "    \n",
    " #  App data columns of interest\n",
    "name_index = 0\n",
    "reviews_index = 3"
   ]
  },
  {
   "cell_type": "code",
   "execution_count": null,
   "metadata": {
    "ExecuteTime": {
     "end_time": "2021-03-22T15:55:50.328137Z",
     "start_time": "2021-03-22T15:55:50.104Z"
    }
   },
   "outputs": [],
   "source": [
    "android_header, android_data = extract_app_data(delete=error_row)"
   ]
  },
  {
   "cell_type": "code",
   "execution_count": 2,
   "metadata": {
    "ExecuteTime": {
     "end_time": "2021-03-22T15:55:56.052152Z",
     "start_time": "2021-03-22T15:55:56.038109Z"
    }
   },
   "outputs": [
    {
     "ename": "NameError",
     "evalue": "name 'explore_data' is not defined",
     "output_type": "error",
     "traceback": [
      "\u001b[0;31m---------------------------------------------------------------------------\u001b[0m",
      "\u001b[0;31mNameError\u001b[0m                                 Traceback (most recent call last)",
      "\u001b[0;32m<ipython-input-2-12c02d064c2e>\u001b[0m in \u001b[0;36m<module>\u001b[0;34m()\u001b[0m\n\u001b[1;32m      3\u001b[0m \u001b[0mend\u001b[0m \u001b[0;34m=\u001b[0m \u001b[0;36m3\u001b[0m\u001b[0;34m\u001b[0m\u001b[0m\n\u001b[1;32m      4\u001b[0m \u001b[0;34m\u001b[0m\u001b[0m\n\u001b[0;32m----> 5\u001b[0;31m explore_data(android_data, android_header, start, end, \n\u001b[0m\u001b[1;32m      6\u001b[0m              tag=android_tag, rows_and_columns=True)\n",
      "\u001b[0;31mNameError\u001b[0m: name 'explore_data' is not defined"
     ]
    }
   ],
   "source": [
    "#  Rows to print to get a feel for the data\n",
    "start = 0\n",
    "end = 3\n",
    "\n",
    "explore_data(android_data, android_header, start, end, \n",
    "             tag=android_tag, rows_and_columns=True)"
   ]
  },
  {
   "cell_type": "code",
   "execution_count": null,
   "metadata": {},
   "outputs": [],
   "source": []
  }
 ],
 "metadata": {
  "kernelspec": {
   "display_name": "Python 3",
   "language": "python",
   "name": "python3"
  },
  "language_info": {
   "codemirror_mode": {
    "name": "ipython",
    "version": 3
   },
   "file_extension": ".py",
   "mimetype": "text/x-python",
   "name": "python",
   "nbconvert_exporter": "python",
   "pygments_lexer": "ipython3",
   "version": "3.6.4"
  },
  "toc": {
   "base_numbering": 1,
   "nav_menu": {},
   "number_sections": true,
   "sideBar": true,
   "skip_h1_title": true,
   "title_cell": "Table of Contents",
   "title_sidebar": "Contents",
   "toc_cell": false,
   "toc_position": {},
   "toc_section_display": true,
   "toc_window_display": false
  },
  "varInspector": {
   "cols": {
    "lenName": 16,
    "lenType": 16,
    "lenVar": 40
   },
   "kernels_config": {
    "python": {
     "delete_cmd_postfix": "",
     "delete_cmd_prefix": "del ",
     "library": "var_list.py",
     "varRefreshCmd": "print(var_dic_list())"
    },
    "r": {
     "delete_cmd_postfix": ") ",
     "delete_cmd_prefix": "rm(",
     "library": "var_list.r",
     "varRefreshCmd": "cat(var_dic_list()) "
    }
   },
   "types_to_exclude": [
    "module",
    "function",
    "builtin_function_or_method",
    "instance",
    "_Feature"
   ],
   "window_display": false
  }
 },
 "nbformat": 4,
 "nbformat_minor": 4
}
