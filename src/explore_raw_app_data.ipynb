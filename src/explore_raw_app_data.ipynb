{
 "cells": [
  {
   "cell_type": "code",
   "execution_count": 5,
   "metadata": {
    "ExecuteTime": {
     "end_time": "2021-03-22T23:09:31.893674Z",
     "start_time": "2021-03-22T23:09:31.812060Z"
    }
   },
   "outputs": [],
   "source": [
    "from retrieve_csv import retrive_datafile\n",
    "import csv"
   ]
  },
  {
   "cell_type": "markdown",
   "metadata": {},
   "source": [
    "## Exploring data from the Google Play app store"
   ]
  },
  {
   "cell_type": "code",
   "execution_count": 7,
   "metadata": {
    "ExecuteTime": {
     "end_time": "2021-03-22T23:10:22.275972Z",
     "start_time": "2021-03-22T23:10:22.269526Z"
    }
   },
   "outputs": [],
   "source": [
    "def extract_app_data(filename, input_folder, tag, \n",
    "                     encoding=\"utf8\", header=True):\n",
    "    print(\"Extacting {} app data...\".format(tag))\n",
    "    datafile = retrive_datafile(filename, input_folder)\n",
    "    with open(datafile, 'r') as data:\n",
    "        read_file = csv.reader(data)\n",
    "        dataset = list(read_file)\n",
    "        # Check if user has included data with a header\n",
    "        if header:\n",
    "            data_header = dataset[0]\n",
    "            dataset = dataset[1:]\n",
    "            return (data_header, dataset)\n",
    "        else: \n",
    "            return (dataset)"
   ]
  },
  {
   "cell_type": "code",
   "execution_count": 8,
   "metadata": {
    "ExecuteTime": {
     "end_time": "2021-03-22T23:11:49.651310Z",
     "start_time": "2021-03-22T23:11:49.633272Z"
    }
   },
   "outputs": [],
   "source": [
    "def explore_data(dataset, header, start, end,\n",
    "                               tag=None, rows_and_columns=False):\n",
    "    \"\"\"Explore data.\"\"\"\n",
    "    dataset_slice = dataset[start:end]\n",
    "    print(header)\n",
    "    print('\\n')\n",
    "    for row in dataset_slice:\n",
    "        print(row)\n",
    "        print('\\n')\n",
    "    if rows_and_columns:\n",
    "        if tag:\n",
    "            print('Number of rows in {} dataset: {}'.format(tag, len(dataset)))\n",
    "            print('Number of cols in {} dataset: {}'.format(tag, len(dataset[0])))\n",
    "        else:\n",
    "            print('Number of rows in this dataset: {}'.format(len(dataset)))\n",
    "            print('Number of cols in this dataset: {}'.format(len(dataset[0])))"
   ]
  },
  {
   "cell_type": "code",
   "execution_count": 9,
   "metadata": {
    "ExecuteTime": {
     "end_time": "2021-03-22T23:11:51.663260Z",
     "start_time": "2021-03-22T23:11:51.657125Z"
    }
   },
   "outputs": [],
   "source": [
    "#   Where raw data (csv files) are located\n",
    "data_folder = '../data/'\n",
    "android_filename = 'googleplaystore.csv'\n",
    "android_filepath = data_folder + android_filename\n",
    "\n",
    "#  For use in print statements\n",
    "android_tag = \"Android\"\n",
    "    \n",
    "#  Row to delete \n",
    "error_row = 10472\n",
    "    \n",
    " #  App data columns of interest\n",
    "name_index = 0\n",
    "reviews_index = 3"
   ]
  },
  {
   "cell_type": "code",
   "execution_count": 12,
   "metadata": {
    "ExecuteTime": {
     "end_time": "2021-03-22T23:12:28.284470Z",
     "start_time": "2021-03-22T23:12:28.180185Z"
    }
   },
   "outputs": [
    {
     "name": "stdout",
     "output_type": "stream",
     "text": [
      "Extacting Android app data...\n"
     ]
    }
   ],
   "source": [
    "android_header, android_data = extract_app_data(android_filename, data_folder, tag=android_tag)\n",
    "del android_data[error_row]"
   ]
  },
  {
   "cell_type": "code",
   "execution_count": 13,
   "metadata": {
    "ExecuteTime": {
     "end_time": "2021-03-22T23:12:32.857251Z",
     "start_time": "2021-03-22T23:12:32.850007Z"
    }
   },
   "outputs": [
    {
     "name": "stdout",
     "output_type": "stream",
     "text": [
      "['App', 'Category', 'Rating', 'Reviews', 'Size', 'Installs', 'Type', 'Price', 'Content Rating', 'Genres', 'Last Updated', 'Current Ver', 'Android Ver']\n",
      "\n",
      "\n",
      "['Photo Editor & Candy Camera & Grid & ScrapBook', 'ART_AND_DESIGN', '4.1', '159', '19M', '10,000+', 'Free', '0', 'Everyone', 'Art & Design', 'January 7, 2018', '1.0.0', '4.0.3 and up']\n",
      "\n",
      "\n",
      "['Coloring book moana', 'ART_AND_DESIGN', '3.9', '967', '14M', '500,000+', 'Free', '0', 'Everyone', 'Art & Design;Pretend Play', 'January 15, 2018', '2.0.0', '4.0.3 and up']\n",
      "\n",
      "\n",
      "['U Launcher Lite – FREE Live Cool Themes, Hide Apps', 'ART_AND_DESIGN', '4.7', '87510', '8.7M', '5,000,000+', 'Free', '0', 'Everyone', 'Art & Design', 'August 1, 2018', '1.2.4', '4.0.3 and up']\n",
      "\n",
      "\n",
      "Number of rows in Android dataset: 10840\n",
      "Number of cols in Android dataset: 13\n"
     ]
    }
   ],
   "source": [
    "#  Rows to print to get a feel for the data\n",
    "start = 0\n",
    "end = 3\n",
    "\n",
    "explore_data(android_data, android_header, start, end, \n",
    "             tag=android_tag, rows_and_columns=True)"
   ]
  }
 ],
 "metadata": {
  "kernelspec": {
   "display_name": "Python 3",
   "language": "python",
   "name": "python3"
  },
  "language_info": {
   "codemirror_mode": {
    "name": "ipython",
    "version": 3
   },
   "file_extension": ".py",
   "mimetype": "text/x-python",
   "name": "python",
   "nbconvert_exporter": "python",
   "pygments_lexer": "ipython3",
   "version": "3.6.4"
  },
  "toc": {
   "base_numbering": 1,
   "nav_menu": {},
   "number_sections": true,
   "sideBar": true,
   "skip_h1_title": true,
   "title_cell": "Table of Contents",
   "title_sidebar": "Contents",
   "toc_cell": false,
   "toc_position": {},
   "toc_section_display": true,
   "toc_window_display": false
  },
  "varInspector": {
   "cols": {
    "lenName": 16,
    "lenType": 16,
    "lenVar": 40
   },
   "kernels_config": {
    "python": {
     "delete_cmd_postfix": "",
     "delete_cmd_prefix": "del ",
     "library": "var_list.py",
     "varRefreshCmd": "print(var_dic_list())"
    },
    "r": {
     "delete_cmd_postfix": ") ",
     "delete_cmd_prefix": "rm(",
     "library": "var_list.r",
     "varRefreshCmd": "cat(var_dic_list()) "
    }
   },
   "types_to_exclude": [
    "module",
    "function",
    "builtin_function_or_method",
    "instance",
    "_Feature"
   ],
   "window_display": false
  }
 },
 "nbformat": 4,
 "nbformat_minor": 4
}
