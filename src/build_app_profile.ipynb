{
 "cells": [
  {
   "cell_type": "markdown",
   "metadata": {},
   "source": [
    "# Seeking profitable Android app profiles\n",
    "\n",
    "Focusing on Android apps in top 3 languages: English (~9500 apps), Spanish (35 apps), and Japanese (10 apps). Keep in mind that the sample size we're using is only a small fraction of the millions of apps available.\n",
    "\n",
    "ISA: Run the cleaning and language sorting scripts below."
   ]
  },
  {
   "cell_type": "code",
   "execution_count": null,
   "metadata": {},
   "outputs": [],
   "source": [
    "from extract_csv_data import extract_data"
   ]
  },
  {
   "cell_type": "code",
   "execution_count": 1,
   "metadata": {
    "ExecuteTime": {
     "end_time": "2021-03-22T15:52:50.483009Z",
     "start_time": "2021-03-22T15:52:50.474826Z"
    }
   },
   "outputs": [],
   "source": [
    "data_folder = '../output/android/sorted-by-language/'\n",
    "english_app_filename = 'english_apps.csv'\n",
    "spanish_app_filename = 'spanish_apps.csv'\n",
    "japanese_app_filename = 'japanese_apps.csv' \n",
    "\n",
    "english_app_filepath = data_folder + english_app_filename\n",
    "spanish_app_filepath = data_folder + spanish_app_filename\n",
    "japanese_app_filepath = data_folder + japanese_app_filename"
   ]
  },
  {
   "cell_type": "code",
   "execution_count": null,
   "metadata": {},
   "outputs": [],
   "source": [
    "english_app_dataset = extract_data(english_app_filepath, header=False)\n",
    "spanish_app_dataset = extract_data(spanish_app_filepath, header=False)\n",
    "japanese_app_dataset = extract_data(japanese_app_filepath, header=False)"
   ]
  },
  {
   "cell_type": "code",
   "execution_count": null,
   "metadata": {},
   "outputs": [],
   "source": [
    "android_english_free = []\n",
    "price_index = 7\n",
    "for app in english_app_dataset:\n",
    "    price = app[7]\n",
    "    if price == '0':\n",
    "        android_english_free.append(app)\n",
    "        \n",
    "print(\"There are {} free English apps.\".format( len(android_english_free)))"
   ]
  },
  {
   "cell_type": "code",
   "execution_count": null,
   "metadata": {},
   "outputs": [],
   "source": [
    "def frequency_table(dataset, index, display=True):\n",
    "    freq_table = {}\n",
    "    total  = 0\n",
    "    \n",
    "    for row in dataset:\n",
    "        value = row[index]\n",
    "        if value in freq_table:\n",
    "            freq_table[value] += 1\n",
    "        else:\n",
    "            freq_table[value] = 1\n",
    "        total += 1\n",
    "            \n",
    "    table_percentages = {}\n",
    "    for key in freq_table:\n",
    "        average = freq_table[key]/total\n",
    "        percentage = average * 100\n",
    "        table_percentages[key] = percentage\n",
    "        \n",
    "    if display:\n",
    "        table_display = []\n",
    "        for key in table_percentages:\n",
    "            key_value_pair = (key, table_percentages[key])\n",
    "            table_display.append(key_value_pair)\n",
    "        sort_table = sorted(table_display, reverse=True)\n",
    "        for pair in sort_table:\n",
    "            key = pair[0]\n",
    "            value = pair[1]\n",
    "            print(\"{}: {:.2f}%\".format(key, value))\n",
    "    return table_percentages"
   ]
  },
  {
   "cell_type": "code",
   "execution_count": null,
   "metadata": {},
   "outputs": [],
   "source": [
    "genre_index = 1\n",
    "android_genres = frequency_table(android_english_free, genre_index)"
   ]
  },
  {
   "cell_type": "code",
   "execution_count": null,
   "metadata": {},
   "outputs": [],
   "source": [
    "installs_index = 5\n",
    "android_installs = frequency_table(android_english_free, installs_index)"
   ]
  },
  {
   "cell_type": "code",
   "execution_count": null,
   "metadata": {},
   "outputs": [],
   "source": [
    "for genre in android_genres:\n",
    "    total = 0\n",
    "    len_genre = 0\n",
    "    for app in android_english_free:\n",
    "        app_genre = app[genre_index]\n",
    "        if app_genre == genre:\n",
    "            num_installs = app[installs_index]\n",
    "            num_installs = num_installs.replace(',', '')\n",
    "            num_installs = num_installs.replace('+', '')\n",
    "            total += float(num_installs)\n",
    "            len_genre  += 1\n",
    "    average_num_installs = total / len_genre\n",
    "    print(\"{}: {:,.0f}\".format(genre, average_num_installs))"
   ]
  },
  {
   "cell_type": "markdown",
   "metadata": {},
   "source": [
    "Lets take it to Tableau from here..."
   ]
  },
  {
   "cell_type": "code",
   "execution_count": null,
   "metadata": {},
   "outputs": [],
   "source": []
  }
 ],
 "metadata": {
  "kernelspec": {
   "display_name": "Python 3",
   "language": "python",
   "name": "python3"
  },
  "language_info": {
   "codemirror_mode": {
    "name": "ipython",
    "version": 3
   },
   "file_extension": ".py",
   "mimetype": "text/x-python",
   "name": "python",
   "nbconvert_exporter": "python",
   "pygments_lexer": "ipython3",
   "version": "3.6.4"
  },
  "toc": {
   "base_numbering": 1,
   "nav_menu": {},
   "number_sections": true,
   "sideBar": true,
   "skip_h1_title": true,
   "title_cell": "Table of Contents",
   "title_sidebar": "Contents",
   "toc_cell": false,
   "toc_position": {},
   "toc_section_display": true,
   "toc_window_display": false
  },
  "varInspector": {
   "cols": {
    "lenName": 16,
    "lenType": 16,
    "lenVar": 40
   },
   "kernels_config": {
    "python": {
     "delete_cmd_postfix": "",
     "delete_cmd_prefix": "del ",
     "library": "var_list.py",
     "varRefreshCmd": "print(var_dic_list())"
    },
    "r": {
     "delete_cmd_postfix": ") ",
     "delete_cmd_prefix": "rm(",
     "library": "var_list.r",
     "varRefreshCmd": "cat(var_dic_list()) "
    }
   },
   "types_to_exclude": [
    "module",
    "function",
    "builtin_function_or_method",
    "instance",
    "_Feature"
   ],
   "window_display": false
  }
 },
 "nbformat": 4,
 "nbformat_minor": 4
}
