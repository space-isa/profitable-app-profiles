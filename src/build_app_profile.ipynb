{
 "cells": [
  {
   "cell_type": "markdown",
   "metadata": {},
   "source": [
    "# Seeking profitable Android app profiles\n",
    "\n",
    "Focusing on Android apps in top 3 languages: English (~9500 apps), Spanish (35 apps), and Japanese (10 apps). Keep in mind that the sample size we're using is only a small fraction of the millions of apps available.\n",
    "\n",
    "ISA: Run the cleaning and language sorting scripts below."
   ]
  },
  {
   "cell_type": "code",
   "execution_count": 1,
   "metadata": {
    "ExecuteTime": {
     "end_time": "2021-03-22T23:22:39.251992Z",
     "start_time": "2021-03-22T23:22:39.188016Z"
    }
   },
   "outputs": [],
   "source": [
    "from retrieve_csv import retrive_datafile\n",
    "import csv"
   ]
  },
  {
   "cell_type": "code",
   "execution_count": 2,
   "metadata": {
    "ExecuteTime": {
     "end_time": "2021-03-22T23:22:42.087997Z",
     "start_time": "2021-03-22T23:22:42.074684Z"
    }
   },
   "outputs": [],
   "source": [
    "def extract_app_data(filename, input_folder, tag, \n",
    "                     encoding=\"utf8\", header=True):\n",
    "    print(\"Extacting {} app data...\".format(tag))\n",
    "    datafile = retrive_datafile(filename, input_folder)\n",
    "    with open(datafile, 'r') as data:\n",
    "        read_file = csv.reader(data)\n",
    "        dataset = list(read_file)\n",
    "        # Check if user has included data with a header\n",
    "        if header:\n",
    "            data_header = dataset[0]\n",
    "            dataset = dataset[1:]\n",
    "            return (data_header, dataset)\n",
    "        else: \n",
    "            return (dataset)"
   ]
  },
  {
   "cell_type": "code",
   "execution_count": 3,
   "metadata": {
    "ExecuteTime": {
     "end_time": "2021-03-22T23:22:48.220392Z",
     "start_time": "2021-03-22T23:22:48.215288Z"
    }
   },
   "outputs": [],
   "source": [
    "data_folder = '../output/android/sorted-by-language/'\n",
    "english_app_filename = 'english_apps.csv'\n",
    "spanish_app_filename = 'spanish_apps.csv'\n",
    "japanese_app_filename = 'japanese_apps.csv' \n",
    "\n",
    "# english_app_filepath = data_folder + english_app_filename\n",
    "# spanish_app_filepath = data_folder + spanish_app_filename\n",
    "# japanese_app_filepath = data_folder + japanese_app_filename"
   ]
  },
  {
   "cell_type": "code",
   "execution_count": 6,
   "metadata": {
    "ExecuteTime": {
     "end_time": "2021-03-22T23:24:14.873901Z",
     "start_time": "2021-03-22T23:24:14.639755Z"
    }
   },
   "outputs": [
    {
     "name": "stdout",
     "output_type": "stream",
     "text": [
      "Extacting English apps app data...\n",
      "Extacting Spanish apps app data...\n",
      "Extacting Japanese apps app data...\n"
     ]
    }
   ],
   "source": [
    "# extract_app_data(android_filename, data_folder, tag=android_tag)\n",
    "english_app_dataset = extract_app_data(english_app_filename, data_folder, tag=\"English apps\", header=False)\n",
    "spanish_app_dataset = extract_app_data(spanish_app_filename, data_folder, tag=\"Spanish apps\", header=False)\n",
    "japanese_app_dataset = extract_app_data(japanese_app_filename, data_folder, tag=\"Japanese apps\", header=False)"
   ]
  },
  {
   "cell_type": "code",
   "execution_count": 7,
   "metadata": {
    "ExecuteTime": {
     "end_time": "2021-03-22T23:24:42.370185Z",
     "start_time": "2021-03-22T23:24:42.350911Z"
    }
   },
   "outputs": [
    {
     "name": "stdout",
     "output_type": "stream",
     "text": [
      "There are 8845 free English apps.\n"
     ]
    }
   ],
   "source": [
    "android_english_free = []\n",
    "price_index = 7\n",
    "for app in english_app_dataset:\n",
    "    price = app[7]\n",
    "    if price == '0':\n",
    "        android_english_free.append(app)\n",
    "        \n",
    "print(\"There are {} free English apps.\".format( len(android_english_free)))"
   ]
  },
  {
   "cell_type": "code",
   "execution_count": 8,
   "metadata": {
    "ExecuteTime": {
     "end_time": "2021-03-22T23:24:47.257052Z",
     "start_time": "2021-03-22T23:24:47.239742Z"
    }
   },
   "outputs": [],
   "source": [
    "def frequency_table(dataset, index, display=True):\n",
    "    freq_table = {}\n",
    "    total  = 0\n",
    "    \n",
    "    for row in dataset:\n",
    "        value = row[index]\n",
    "        if value in freq_table:\n",
    "            freq_table[value] += 1\n",
    "        else:\n",
    "            freq_table[value] = 1\n",
    "        total += 1\n",
    "            \n",
    "    table_percentages = {}\n",
    "    for key in freq_table:\n",
    "        average = freq_table[key]/total\n",
    "        percentage = average * 100\n",
    "        table_percentages[key] = percentage\n",
    "        \n",
    "    if display:\n",
    "        table_display = []\n",
    "        for key in table_percentages:\n",
    "            key_value_pair = (key, table_percentages[key])\n",
    "            table_display.append(key_value_pair)\n",
    "        sort_table = sorted(table_display, reverse=True)\n",
    "        for pair in sort_table:\n",
    "            key = pair[0]\n",
    "            value = pair[1]\n",
    "            print(\"{}: {:.2f}%\".format(key, value))\n",
    "    return table_percentages"
   ]
  },
  {
   "cell_type": "code",
   "execution_count": 9,
   "metadata": {
    "ExecuteTime": {
     "end_time": "2021-03-22T23:24:50.011747Z",
     "start_time": "2021-03-22T23:24:49.969117Z"
    }
   },
   "outputs": [
    {
     "name": "stdout",
     "output_type": "stream",
     "text": [
      "WEATHER: 0.80%\n",
      "VIDEO_PLAYERS: 1.81%\n",
      "TRAVEL_AND_LOCAL: 2.33%\n",
      "TOOLS: 8.46%\n",
      "SPORTS: 3.31%\n",
      "SOCIAL: 2.65%\n",
      "SHOPPING: 2.24%\n",
      "PRODUCTIVITY: 3.91%\n",
      "PHOTOGRAPHY: 2.96%\n",
      "PERSONALIZATION: 3.32%\n",
      "PARENTING: 0.66%\n",
      "NEWS_AND_MAGAZINES: 2.77%\n",
      "MEDICAL: 3.52%\n",
      "MAPS_AND_NAVIGATION: 1.41%\n",
      "LIFESTYLE: 3.91%\n",
      "LIBRARIES_AND_DEMO: 0.94%\n",
      "HOUSE_AND_HOME: 0.83%\n",
      "HEALTH_AND_FITNESS: 3.08%\n",
      "GAME: 9.70%\n",
      "FOOD_AND_DRINK: 1.24%\n",
      "FINANCE: 3.66%\n",
      "FAMILY: 18.96%\n",
      "EVENTS: 0.71%\n",
      "ENTERTAINMENT: 0.96%\n",
      "EDUCATION: 1.18%\n",
      "DATING: 1.85%\n",
      "COMMUNICATION: 3.24%\n",
      "COMICS: 0.62%\n",
      "BUSINESS: 4.61%\n",
      "BOOKS_AND_REFERENCE: 2.17%\n",
      "BEAUTY: 0.60%\n",
      "AUTO_AND_VEHICLES: 0.93%\n",
      "ART_AND_DESIGN: 0.66%\n"
     ]
    }
   ],
   "source": [
    "genre_index = 1\n",
    "android_genres = frequency_table(android_english_free, genre_index)"
   ]
  },
  {
   "cell_type": "code",
   "execution_count": 10,
   "metadata": {
    "ExecuteTime": {
     "end_time": "2021-03-22T23:24:53.242164Z",
     "start_time": "2021-03-22T23:24:53.222609Z"
    }
   },
   "outputs": [
    {
     "name": "stdout",
     "output_type": "stream",
     "text": [
      "500,000,000+: 0.27%\n",
      "500,000+: 5.53%\n",
      "500+: 3.21%\n",
      "50,000,000+: 2.28%\n",
      "50,000+: 4.80%\n",
      "50+: 1.91%\n",
      "5,000,000+: 6.83%\n",
      "5,000+: 4.52%\n",
      "5+: 0.79%\n",
      "100,000,000+: 2.10%\n",
      "100,000+: 11.55%\n",
      "100+: 6.87%\n",
      "10,000,000+: 10.57%\n",
      "10,000+: 10.24%\n",
      "10+: 3.55%\n",
      "1,000,000,000+: 0.23%\n",
      "1,000,000+: 15.74%\n",
      "1,000+: 8.42%\n",
      "1+: 0.51%\n",
      "0+: 0.05%\n",
      "0: 0.01%\n"
     ]
    }
   ],
   "source": [
    "installs_index = 5\n",
    "android_installs = frequency_table(android_english_free, installs_index)"
   ]
  },
  {
   "cell_type": "code",
   "execution_count": 11,
   "metadata": {
    "ExecuteTime": {
     "end_time": "2021-03-22T23:24:57.001112Z",
     "start_time": "2021-03-22T23:24:56.804978Z"
    }
   },
   "outputs": [
    {
     "name": "stdout",
     "output_type": "stream",
     "text": [
      "ART_AND_DESIGN: 1,952,105\n",
      "AUTO_AND_VEHICLES: 647,318\n",
      "BEAUTY: 513,152\n",
      "BOOKS_AND_REFERENCE: 8,155,944\n",
      "BUSINESS: 1,708,216\n",
      "COMICS: 817,657\n",
      "COMMUNICATION: 38,456,119\n",
      "DATING: 859,206\n",
      "EDUCATION: 1,825,481\n",
      "ENTERTAINMENT: 11,640,706\n",
      "EVENTS: 253,542\n",
      "FINANCE: 1,402,817\n",
      "FOOD_AND_DRINK: 1,924,898\n",
      "HEALTH_AND_FITNESS: 4,204,222\n",
      "HOUSE_AND_HOME: 1,331,541\n",
      "LIBRARIES_AND_DEMO: 638,504\n",
      "LIFESTYLE: 1,452,527\n",
      "GAME: 15,542,732\n",
      "FAMILY: 3,607,021\n",
      "MEDICAL: 119,718\n",
      "SOCIAL: 23,450,260\n",
      "SHOPPING: 7,067,367\n",
      "PHOTOGRAPHY: 17,772,019\n",
      "SPORTS: 3,679,626\n",
      "TRAVEL_AND_LOCAL: 14,051,913\n",
      "TOOLS: 10,763,428\n",
      "PERSONALIZATION: 5,201,480\n",
      "PRODUCTIVITY: 16,738,958\n",
      "PARENTING: 542,604\n",
      "WEATHER: 5,074,486\n",
      "VIDEO_PLAYERS: 24,573,948\n",
      "NEWS_AND_MAGAZINES: 9,667,594\n",
      "MAPS_AND_NAVIGATION: 4,025,282\n"
     ]
    }
   ],
   "source": [
    "for genre in android_genres:\n",
    "    total = 0\n",
    "    len_genre = 0\n",
    "    for app in android_english_free:\n",
    "        app_genre = app[genre_index]\n",
    "        if app_genre == genre:\n",
    "            num_installs = app[installs_index]\n",
    "            num_installs = num_installs.replace(',', '')\n",
    "            num_installs = num_installs.replace('+', '')\n",
    "            total += float(num_installs)\n",
    "            len_genre  += 1\n",
    "    average_num_installs = total / len_genre\n",
    "    print(\"{}: {:,.0f}\".format(genre, average_num_installs))"
   ]
  },
  {
   "cell_type": "markdown",
   "metadata": {},
   "source": [
    "## Exploring with Tableau\n",
    "To interact with the data viz displayed below, [click on this link]( https://public.tableau.com/views/Dataquest-Project1/Dashboard1?:language=en&:display_count=y&publish=yes&:origin=viz_share_link).\n",
    "\n",
    "<img src=\"../output/Tableau/Dashboard.png\">"
   ]
  },
  {
   "cell_type": "markdown",
   "metadata": {},
   "source": [
    "## Conclusions\n",
    "\n",
    "Android apps tend to be dominated by games, communication (e.g., WhatsApp) and social media. Taking this into consideration, as well as the increasing normalization of remote work, we want to consdier genres such as productivity, books, and education. Developing an app that draws elements from multiple genres, for example an app that serves as an educational comic/manga reference (and could even be companion apps to existing books such as [\"The Manga Guide to Physics\"](https://www.goodreads.com/book/show/6291415-the-manga-guide-to-physics)), would be one way to tap into a potentially growing market."
   ]
  }
 ],
 "metadata": {
  "kernelspec": {
   "display_name": "Python 3",
   "language": "python",
   "name": "python3"
  },
  "language_info": {
   "codemirror_mode": {
    "name": "ipython",
    "version": 3
   },
   "file_extension": ".py",
   "mimetype": "text/x-python",
   "name": "python",
   "nbconvert_exporter": "python",
   "pygments_lexer": "ipython3",
   "version": "3.6.4"
  },
  "toc": {
   "base_numbering": 1,
   "nav_menu": {},
   "number_sections": true,
   "sideBar": true,
   "skip_h1_title": true,
   "title_cell": "Table of Contents",
   "title_sidebar": "Contents",
   "toc_cell": false,
   "toc_position": {},
   "toc_section_display": true,
   "toc_window_display": false
  },
  "varInspector": {
   "cols": {
    "lenName": 16,
    "lenType": 16,
    "lenVar": 40
   },
   "kernels_config": {
    "python": {
     "delete_cmd_postfix": "",
     "delete_cmd_prefix": "del ",
     "library": "var_list.py",
     "varRefreshCmd": "print(var_dic_list())"
    },
    "r": {
     "delete_cmd_postfix": ") ",
     "delete_cmd_prefix": "rm(",
     "library": "var_list.r",
     "varRefreshCmd": "cat(var_dic_list()) "
    }
   },
   "types_to_exclude": [
    "module",
    "function",
    "builtin_function_or_method",
    "instance",
    "_Feature"
   ],
   "window_display": false
  }
 },
 "nbformat": 4,
 "nbformat_minor": 4
}
