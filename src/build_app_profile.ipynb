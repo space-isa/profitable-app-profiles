{
 "cells": [
  {
   "cell_type": "markdown",
   "metadata": {},
   "source": [
    "# Seeking profitable Android app profiles\n",
    "\n",
    "Focusing on Android apps in top 3 languages: English (~9500 apps), Spanish (35 apps), and Japanese (10 apps). Keep in mind that the sample size we're using is only a small fraction of the millions of apps available.\n",
    "\n",
    "ISA: Run the cleaning and language sorting scripts below."
   ]
  },
  {
   "cell_type": "code",
   "execution_count": 1,
   "metadata": {
    "ExecuteTime": {
     "end_time": "2021-03-22T23:22:39.251992Z",
     "start_time": "2021-03-22T23:22:39.188016Z"
    }
   },
   "outputs": [],
   "source": [
    "from retrieve_csv import retrive_datafile\n",
    "import csv"
   ]
  },
  {
   "cell_type": "code",
   "execution_count": 2,
   "metadata": {
    "ExecuteTime": {
     "end_time": "2021-03-22T23:22:42.087997Z",
     "start_time": "2021-03-22T23:22:42.074684Z"
    }
   },
   "outputs": [],
   "source": [
    "def extract_app_data(filename, input_folder, tag, \n",
    "                     encoding=\"utf8\", header=True):\n",
    "    print(\"Extacting {} app data...\".format(tag))\n",
    "    datafile = retrive_datafile(filename, input_folder)\n",
    "    with open(datafile, 'r') as data:\n",
    "        read_file = csv.reader(data)\n",
    "        dataset = list(read_file)\n",
    "        # Check if user has included data with a header\n",
    "        if header:\n",
    "            data_header = dataset[0]\n",
    "            dataset = dataset[1:]\n",
    "            return (data_header, dataset)\n",
    "        else: \n",
    "            return (dataset)"
   ]
  },
  {
   "cell_type": "code",
   "execution_count": 3,
   "metadata": {
    "ExecuteTime": {
     "end_time": "2021-03-22T23:22:48.220392Z",
     "start_time": "2021-03-22T23:22:48.215288Z"
    }
   },
   "outputs": [],
   "source": [
    "data_folder = '../output/android/sorted-by-language/'\n",
    "english_app_filename = 'english_apps.csv'\n",
    "spanish_app_filename = 'spanish_apps.csv'\n",
    "japanese_app_filename = 'japanese_apps.csv' \n",
    "\n",
    "# english_app_filepath = data_folder + english_app_filename\n",
    "# spanish_app_filepath = data_folder + spanish_app_filename\n",
    "# japanese_app_filepath = data_folder + japanese_app_filename"
   ]
  },
  {
   "cell_type": "code",
   "execution_count": 5,
   "metadata": {
    "ExecuteTime": {
     "end_time": "2021-03-22T23:23:02.599946Z",
     "start_time": "2021-03-22T23:23:02.581311Z"
    }
   },
   "outputs": [
    {
     "ename": "TypeError",
     "evalue": "extract_app_data() missing 1 required positional argument: 'tag'",
     "output_type": "error",
     "traceback": [
      "\u001b[0;31m---------------------------------------------------------------------------\u001b[0m",
      "\u001b[0;31mTypeError\u001b[0m                                 Traceback (most recent call last)",
      "\u001b[0;32m<ipython-input-5-2c418ff00269>\u001b[0m in \u001b[0;36m<module>\u001b[0;34m()\u001b[0m\n\u001b[1;32m      1\u001b[0m \u001b[0;31m# extract_app_data(android_filename, data_folder, tag=android_tag)\u001b[0m\u001b[0;34m\u001b[0m\u001b[0;34m\u001b[0m\u001b[0m\n\u001b[0;32m----> 2\u001b[0;31m \u001b[0menglish_app_dataset\u001b[0m \u001b[0;34m=\u001b[0m \u001b[0mextract_app_data\u001b[0m\u001b[0;34m(\u001b[0m\u001b[0menglish_app_filename\u001b[0m\u001b[0;34m,\u001b[0m \u001b[0mdata_folder\u001b[0m\u001b[0;34m,\u001b[0m \u001b[0mheader\u001b[0m\u001b[0;34m=\u001b[0m\u001b[0;32mFalse\u001b[0m\u001b[0;34m)\u001b[0m\u001b[0;34m\u001b[0m\u001b[0m\n\u001b[0m\u001b[1;32m      3\u001b[0m \u001b[0mspanish_app_dataset\u001b[0m \u001b[0;34m=\u001b[0m \u001b[0mextract_app_data\u001b[0m\u001b[0;34m(\u001b[0m\u001b[0mspanish_app_filename\u001b[0m\u001b[0;34m,\u001b[0m \u001b[0mdata_folder\u001b[0m\u001b[0;34m,\u001b[0m \u001b[0mheader\u001b[0m\u001b[0;34m=\u001b[0m\u001b[0;32mFalse\u001b[0m\u001b[0;34m)\u001b[0m\u001b[0;34m\u001b[0m\u001b[0m\n\u001b[1;32m      4\u001b[0m \u001b[0mjapanese_app_dataset\u001b[0m \u001b[0;34m=\u001b[0m \u001b[0mextract_app_data\u001b[0m\u001b[0;34m(\u001b[0m\u001b[0mjapanese_app_filename\u001b[0m\u001b[0;34m,\u001b[0m \u001b[0mdata_folder\u001b[0m\u001b[0;34m,\u001b[0m \u001b[0mheader\u001b[0m\u001b[0;34m=\u001b[0m\u001b[0;32mFalse\u001b[0m\u001b[0;34m)\u001b[0m\u001b[0;34m\u001b[0m\u001b[0m\n",
      "\u001b[0;31mTypeError\u001b[0m: extract_app_data() missing 1 required positional argument: 'tag'"
     ]
    }
   ],
   "source": [
    "# extract_app_data(android_filename, data_folder, tag=android_tag)\n",
    "english_app_dataset = extract_app_data(english_app_filename, data_folder, tag=\"English\" header=False)\n",
    "spanish_app_dataset = extract_app_data(spanish_app_filename, data_folder, header=False)\n",
    "japanese_app_dataset = extract_app_data(japanese_app_filename, data_folder, header=False)"
   ]
  },
  {
   "cell_type": "code",
   "execution_count": null,
   "metadata": {},
   "outputs": [],
   "source": [
    "android_english_free = []\n",
    "price_index = 7\n",
    "for app in english_app_dataset:\n",
    "    price = app[7]\n",
    "    if price == '0':\n",
    "        android_english_free.append(app)\n",
    "        \n",
    "print(\"There are {} free English apps.\".format( len(android_english_free)))"
   ]
  },
  {
   "cell_type": "code",
   "execution_count": null,
   "metadata": {},
   "outputs": [],
   "source": [
    "def frequency_table(dataset, index, display=True):\n",
    "    freq_table = {}\n",
    "    total  = 0\n",
    "    \n",
    "    for row in dataset:\n",
    "        value = row[index]\n",
    "        if value in freq_table:\n",
    "            freq_table[value] += 1\n",
    "        else:\n",
    "            freq_table[value] = 1\n",
    "        total += 1\n",
    "            \n",
    "    table_percentages = {}\n",
    "    for key in freq_table:\n",
    "        average = freq_table[key]/total\n",
    "        percentage = average * 100\n",
    "        table_percentages[key] = percentage\n",
    "        \n",
    "    if display:\n",
    "        table_display = []\n",
    "        for key in table_percentages:\n",
    "            key_value_pair = (key, table_percentages[key])\n",
    "            table_display.append(key_value_pair)\n",
    "        sort_table = sorted(table_display, reverse=True)\n",
    "        for pair in sort_table:\n",
    "            key = pair[0]\n",
    "            value = pair[1]\n",
    "            print(\"{}: {:.2f}%\".format(key, value))\n",
    "    return table_percentages"
   ]
  },
  {
   "cell_type": "code",
   "execution_count": null,
   "metadata": {},
   "outputs": [],
   "source": [
    "genre_index = 1\n",
    "android_genres = frequency_table(android_english_free, genre_index)"
   ]
  },
  {
   "cell_type": "code",
   "execution_count": null,
   "metadata": {},
   "outputs": [],
   "source": [
    "installs_index = 5\n",
    "android_installs = frequency_table(android_english_free, installs_index)"
   ]
  },
  {
   "cell_type": "code",
   "execution_count": null,
   "metadata": {},
   "outputs": [],
   "source": [
    "for genre in android_genres:\n",
    "    total = 0\n",
    "    len_genre = 0\n",
    "    for app in android_english_free:\n",
    "        app_genre = app[genre_index]\n",
    "        if app_genre == genre:\n",
    "            num_installs = app[installs_index]\n",
    "            num_installs = num_installs.replace(',', '')\n",
    "            num_installs = num_installs.replace('+', '')\n",
    "            total += float(num_installs)\n",
    "            len_genre  += 1\n",
    "    average_num_installs = total / len_genre\n",
    "    print(\"{}: {:,.0f}\".format(genre, average_num_installs))"
   ]
  },
  {
   "cell_type": "markdown",
   "metadata": {},
   "source": [
    "Lets take it to Tableau from here..."
   ]
  },
  {
   "cell_type": "code",
   "execution_count": null,
   "metadata": {},
   "outputs": [],
   "source": []
  }
 ],
 "metadata": {
  "kernelspec": {
   "display_name": "Python 3",
   "language": "python",
   "name": "python3"
  },
  "language_info": {
   "codemirror_mode": {
    "name": "ipython",
    "version": 3
   },
   "file_extension": ".py",
   "mimetype": "text/x-python",
   "name": "python",
   "nbconvert_exporter": "python",
   "pygments_lexer": "ipython3",
   "version": "3.6.4"
  },
  "toc": {
   "base_numbering": 1,
   "nav_menu": {},
   "number_sections": true,
   "sideBar": true,
   "skip_h1_title": true,
   "title_cell": "Table of Contents",
   "title_sidebar": "Contents",
   "toc_cell": false,
   "toc_position": {},
   "toc_section_display": true,
   "toc_window_display": false
  },
  "varInspector": {
   "cols": {
    "lenName": 16,
    "lenType": 16,
    "lenVar": 40
   },
   "kernels_config": {
    "python": {
     "delete_cmd_postfix": "",
     "delete_cmd_prefix": "del ",
     "library": "var_list.py",
     "varRefreshCmd": "print(var_dic_list())"
    },
    "r": {
     "delete_cmd_postfix": ") ",
     "delete_cmd_prefix": "rm(",
     "library": "var_list.r",
     "varRefreshCmd": "cat(var_dic_list()) "
    }
   },
   "types_to_exclude": [
    "module",
    "function",
    "builtin_function_or_method",
    "instance",
    "_Feature"
   ],
   "window_display": false
  }
 },
 "nbformat": 4,
 "nbformat_minor": 4
}
