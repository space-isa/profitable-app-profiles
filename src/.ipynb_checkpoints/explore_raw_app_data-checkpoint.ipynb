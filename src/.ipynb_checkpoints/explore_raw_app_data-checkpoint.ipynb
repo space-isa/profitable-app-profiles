{
 "cells": [
  {
   "cell_type": "code",
   "execution_count": 1,
   "metadata": {
    "ExecuteTime": {
     "end_time": "2021-03-22T00:58:22.780759Z",
     "start_time": "2021-03-22T00:58:22.653567Z"
    }
   },
   "outputs": [],
   "source": [
    "from extract_csv_data import extract_data"
   ]
  },
  {
   "cell_type": "markdown",
   "metadata": {},
   "source": [
    "## Exploring data from the Google Play app store"
   ]
  },
  {
   "cell_type": "code",
   "execution_count": null,
   "metadata": {
    "ExecuteTime": {
     "end_time": "2021-03-18T16:29:47.928207Z",
     "start_time": "2021-03-18T16:29:47.905298Z"
    }
   },
   "outputs": [],
   "source": [
    "#   Where raw data (csv files) are located\n",
    "data_folder = '../data/'\n",
    "android_filename = 'googleplaystore.csv'\n",
    "android_filepath = data_folder + android_filename"
   ]
  },
  {
   "cell_type": "code",
   "execution_count": null,
   "metadata": {
    "ExecuteTime": {
     "end_time": "2021-03-18T15:38:33.690003Z",
     "start_time": "2021-03-18T15:38:33.682404Z"
    }
   },
   "outputs": [],
   "source": [
    "def extract_app_data(delete=None):\n",
    "    print('Extacting Android app data...')\n",
    "    android_header, android_data = extract_data(android_filepath)\n",
    "    if error_row:\n",
    "        del android_data[delete]\n",
    "    return android_header, android_data"
   ]
  },
  {
   "cell_type": "code",
   "execution_count": null,
   "metadata": {
    "ExecuteTime": {
     "end_time": "2021-03-18T15:40:37.885688Z",
     "start_time": "2021-03-18T15:40:37.869257Z"
    }
   },
   "outputs": [],
   "source": [
    "def explore_data(dataset, header, start, end,\n",
    "                               tag=None, rows_and_columns=False):\n",
    "    \"\"\"Explore data.\"\"\"\n",
    "    dataset_slice = dataset[start:end]\n",
    "    print(header)\n",
    "    print('\\n')\n",
    "    for row in dataset_slice:\n",
    "        print(row)\n",
    "        print('\\n')\n",
    "    if rows_and_columns:\n",
    "        if tag:\n",
    "            print('Number of rows in {} dataset: {}'.format(tag, len(dataset)))\n",
    "            print('Number of cols in {} dataset: {}'.format(tag, len(dataset[0])))\n",
    "        else:\n",
    "            print('Number of rows in this dataset: {}'.format(len(dataset)))\n",
    "            print('Number of cols in this dataset: {}'.format(len(dataset[0])))"
   ]
  },
  {
   "cell_type": "code",
   "execution_count": null,
   "metadata": {
    "ExecuteTime": {
     "end_time": "2021-03-18T16:31:59.119487Z",
     "start_time": "2021-03-18T16:31:59.113475Z"
    }
   },
   "outputs": [],
   "source": [
    "#  For use in print statements\n",
    "android_tag = \"Android\"\n",
    "    \n",
    "#  Row to delete \n",
    "error_row = 10472\n",
    "    \n",
    " #  App data columns of interest\n",
    "name_index = 0\n",
    "reviews_index = 3"
   ]
  },
  {
   "cell_type": "code",
   "execution_count": null,
   "metadata": {
    "ExecuteTime": {
     "end_time": "2021-03-18T16:32:35.791112Z",
     "start_time": "2021-03-18T16:32:35.661733Z"
    }
   },
   "outputs": [],
   "source": [
    "android_header, android_data = extract_app_data(delete=error_row)"
   ]
  },
  {
   "cell_type": "code",
   "execution_count": null,
   "metadata": {},
   "outputs": [],
   "source": [
    "#  Rows to print to get a feel for the data\n",
    "start = 0\n",
    "end = 3\n",
    "\n",
    "explore_data(android_data, android_header, start, end, \n",
    "             tag=android_tag, rows_and_columns=True)"
   ]
  },
  {
   "cell_type": "markdown",
   "metadata": {},
   "source": [
    "ISA: Run the cleaning and language sorting scripts from here."
   ]
  },
  {
   "cell_type": "markdown",
   "metadata": {},
   "source": [
    "# Seeking profitable Android app profiles\n",
    "\n",
    "Focusing on Android apps in top 3 languages: English (~9500 apps), Spanish (35 apps), and Japanese (10 apps). Keep in mind that the sample size we're using is only a small fraction of the millions of apps available.\n"
   ]
  },
  {
   "cell_type": "code",
   "execution_count": 5,
   "metadata": {
    "ExecuteTime": {
     "end_time": "2021-03-22T01:04:38.765810Z",
     "start_time": "2021-03-22T01:04:38.759215Z"
    }
   },
   "outputs": [],
   "source": [
    "data_folder = '../output/android/sorted-by-language/'\n",
    "english_app_filename = 'english_apps.csv'\n",
    "spanish_app_filename = 'spanish_apps.csv'\n",
    "japanese_app_filename = 'japanese_apps.csv' \n",
    "\n",
    "english_app_filepath = data_folder + english_app_filename\n",
    "spanish_app_filepath = data_folder + spanish_app_filename\n",
    "japanese_app_filepath = data_folder + japanese_app_filename"
   ]
  },
  {
   "cell_type": "code",
   "execution_count": 9,
   "metadata": {
    "ExecuteTime": {
     "end_time": "2021-03-22T01:09:06.553631Z",
     "start_time": "2021-03-22T01:09:06.451922Z"
    }
   },
   "outputs": [],
   "source": [
    "english_app_dataset = extract_data(english_app_filepath, header=False)\n",
    "spanish_app_dataset = extract_data(spanish_app_filepath, header=False)\n",
    "japanese_app_dataset = extract_data(japanese_app_filepath, header=False)"
   ]
  },
  {
   "cell_type": "markdown",
   "metadata": {
    "ExecuteTime": {
     "end_time": "2021-03-22T01:05:32.382324Z",
     "start_time": "2021-03-22T01:05:32.373872Z"
    }
   },
   "source": [
    "Lets start working with the english set first, then the other two!"
   ]
  },
  {
   "cell_type": "code",
   "execution_count": 12,
   "metadata": {
    "ExecuteTime": {
     "end_time": "2021-03-22T01:52:09.275805Z",
     "start_time": "2021-03-22T01:52:09.262227Z"
    }
   },
   "outputs": [
    {
     "name": "stdout",
     "output_type": "stream",
     "text": [
      "There are 8845 free english apps.\n"
     ]
    }
   ],
   "source": [
    "android_english_free = []\n",
    "price_index = 7\n",
    "for app in english_app_dataset:\n",
    "    price = app[7]\n",
    "    if price == '0':\n",
    "        android_english_free.append(app)\n",
    "        \n",
    "print(\"There are {} free English apps.\".format( len(android_english_free)))"
   ]
  },
  {
   "cell_type": "code",
   "execution_count": 53,
   "metadata": {
    "ExecuteTime": {
     "end_time": "2021-03-22T02:43:27.985152Z",
     "start_time": "2021-03-22T02:43:27.953980Z"
    },
    "code_folding": []
   },
   "outputs": [],
   "source": [
    "def frequency_table(dataset, index, display=True):\n",
    "    freq_table = {}\n",
    "    total  = 0\n",
    "    \n",
    "    for row in dataset:\n",
    "        value = row[index]\n",
    "        if value in freq_table:\n",
    "            freq_table[value] += 1\n",
    "        else:\n",
    "            freq_table[value] = 1\n",
    "        total += 1\n",
    "            \n",
    "    table_percentages = {}\n",
    "    for key in freq_table:\n",
    "        average = freq_table[key]/total\n",
    "        percentage = average * 100\n",
    "        table_percentages[key] = percentage\n",
    "        \n",
    "    if display:\n",
    "        table_display = []\n",
    "        for key in table_percentages:\n",
    "            key_value_pair = (key, table_percentages[key])\n",
    "            table_display.append(key_value_pair)\n",
    "        sort_table = sorted(table_display, reverse=True)\n",
    "        for pair in sort_table:\n",
    "            key = pair[0]\n",
    "            value = pair[1]\n",
    "            print(\"{}: {:.2f}%\".format(key, value))\n",
    "    return table_percentages"
   ]
  },
  {
   "cell_type": "code",
   "execution_count": 54,
   "metadata": {
    "ExecuteTime": {
     "end_time": "2021-03-22T02:43:30.647221Z",
     "start_time": "2021-03-22T02:43:30.632574Z"
    }
   },
   "outputs": [
    {
     "name": "stdout",
     "output_type": "stream",
     "text": [
      "WEATHER: 0.80%\n",
      "VIDEO_PLAYERS: 1.81%\n",
      "TRAVEL_AND_LOCAL: 2.33%\n",
      "TOOLS: 8.46%\n",
      "SPORTS: 3.31%\n",
      "SOCIAL: 2.65%\n",
      "SHOPPING: 2.24%\n",
      "PRODUCTIVITY: 3.91%\n",
      "PHOTOGRAPHY: 2.96%\n",
      "PERSONALIZATION: 3.32%\n",
      "PARENTING: 0.66%\n",
      "NEWS_AND_MAGAZINES: 2.77%\n",
      "MEDICAL: 3.52%\n",
      "MAPS_AND_NAVIGATION: 1.41%\n",
      "LIFESTYLE: 3.91%\n",
      "LIBRARIES_AND_DEMO: 0.94%\n",
      "HOUSE_AND_HOME: 0.83%\n",
      "HEALTH_AND_FITNESS: 3.08%\n",
      "GAME: 9.70%\n",
      "FOOD_AND_DRINK: 1.24%\n",
      "FINANCE: 3.66%\n",
      "FAMILY: 18.96%\n",
      "EVENTS: 0.71%\n",
      "ENTERTAINMENT: 0.96%\n",
      "EDUCATION: 1.18%\n",
      "DATING: 1.85%\n",
      "COMMUNICATION: 3.24%\n",
      "COMICS: 0.62%\n",
      "BUSINESS: 4.61%\n",
      "BOOKS_AND_REFERENCE: 2.17%\n",
      "BEAUTY: 0.60%\n",
      "AUTO_AND_VEHICLES: 0.93%\n",
      "ART_AND_DESIGN: 0.66%\n"
     ]
    }
   ],
   "source": [
    "genre_index = 1\n",
    "android_genres = frequency_table(android_english_free, genre_index)"
   ]
  },
  {
   "cell_type": "code",
   "execution_count": 56,
   "metadata": {
    "ExecuteTime": {
     "end_time": "2021-03-22T02:43:55.661351Z",
     "start_time": "2021-03-22T02:43:55.649816Z"
    }
   },
   "outputs": [
    {
     "name": "stdout",
     "output_type": "stream",
     "text": [
      "500,000,000+: 0.27%\n",
      "500,000+: 5.53%\n",
      "500+: 3.21%\n",
      "50,000,000+: 2.28%\n",
      "50,000+: 4.80%\n",
      "50+: 1.91%\n",
      "5,000,000+: 6.83%\n",
      "5,000+: 4.52%\n",
      "5+: 0.79%\n",
      "100,000,000+: 2.10%\n",
      "100,000+: 11.55%\n",
      "100+: 6.87%\n",
      "10,000,000+: 10.57%\n",
      "10,000+: 10.24%\n",
      "10+: 3.55%\n",
      "1,000,000,000+: 0.23%\n",
      "1,000,000+: 15.74%\n",
      "1,000+: 8.42%\n",
      "1+: 0.51%\n",
      "0+: 0.05%\n",
      "0: 0.01%\n"
     ]
    }
   ],
   "source": [
    "installs_index = 5\n",
    "android_installs = frequency_table(android_english_free, installs_index)"
   ]
  },
  {
   "cell_type": "code",
   "execution_count": 62,
   "metadata": {
    "ExecuteTime": {
     "end_time": "2021-03-22T02:49:33.595249Z",
     "start_time": "2021-03-22T02:49:33.427632Z"
    }
   },
   "outputs": [
    {
     "name": "stdout",
     "output_type": "stream",
     "text": [
      "ART_AND_DESIGN: 1,952,105\n",
      "AUTO_AND_VEHICLES: 647,318\n",
      "BEAUTY: 513,152\n",
      "BOOKS_AND_REFERENCE: 8,155,944\n",
      "BUSINESS: 1,708,216\n",
      "COMICS: 817,657\n",
      "COMMUNICATION: 38,456,119\n",
      "DATING: 859,206\n",
      "EDUCATION: 1,825,481\n",
      "ENTERTAINMENT: 11,640,706\n",
      "EVENTS: 253,542\n",
      "FINANCE: 1,402,817\n",
      "FOOD_AND_DRINK: 1,924,898\n",
      "HEALTH_AND_FITNESS: 4,204,222\n",
      "HOUSE_AND_HOME: 1,331,541\n",
      "LIBRARIES_AND_DEMO: 638,504\n",
      "LIFESTYLE: 1,452,527\n",
      "GAME: 15,542,732\n",
      "FAMILY: 3,607,021\n",
      "MEDICAL: 119,718\n",
      "SOCIAL: 23,450,260\n",
      "SHOPPING: 7,067,367\n",
      "PHOTOGRAPHY: 17,772,019\n",
      "SPORTS: 3,679,626\n",
      "TRAVEL_AND_LOCAL: 14,051,913\n",
      "TOOLS: 10,763,428\n",
      "PERSONALIZATION: 5,201,480\n",
      "PRODUCTIVITY: 16,738,958\n",
      "PARENTING: 542,604\n",
      "WEATHER: 5,074,486\n",
      "VIDEO_PLAYERS: 24,573,948\n",
      "NEWS_AND_MAGAZINES: 9,667,594\n",
      "MAPS_AND_NAVIGATION: 4,025,282\n"
     ]
    }
   ],
   "source": [
    "for genre in android_genres:\n",
    "    total = 0\n",
    "    len_genre = 0\n",
    "    for app in android_english_free:\n",
    "        app_genre = app[genre_index]\n",
    "        if app_genre == genre:\n",
    "            num_installs = app[installs_index]\n",
    "            num_installs = num_installs.replace(',', '')\n",
    "            num_installs = num_installs.replace('+', '')\n",
    "            total += float(num_installs)\n",
    "            len_genre  += 1\n",
    "    average_num_installs = total / len_genre\n",
    "    print(\"{}: {:,.0f}\".format(genre, average_num_installs))"
   ]
  },
  {
   "cell_type": "markdown",
   "metadata": {},
   "source": [
    "Lets take it to Tableau from here..."
   ]
  },
  {
   "cell_type": "code",
   "execution_count": null,
   "metadata": {},
   "outputs": [],
   "source": []
  }
 ],
 "metadata": {
  "kernelspec": {
   "display_name": "Python 3",
   "language": "python",
   "name": "python3"
  },
  "language_info": {
   "codemirror_mode": {
    "name": "ipython",
    "version": 3
   },
   "file_extension": ".py",
   "mimetype": "text/x-python",
   "name": "python",
   "nbconvert_exporter": "python",
   "pygments_lexer": "ipython3",
   "version": "3.6.4"
  },
  "toc": {
   "base_numbering": 1,
   "nav_menu": {},
   "number_sections": true,
   "sideBar": true,
   "skip_h1_title": true,
   "title_cell": "Table of Contents",
   "title_sidebar": "Contents",
   "toc_cell": false,
   "toc_position": {},
   "toc_section_display": true,
   "toc_window_display": false
  },
  "varInspector": {
   "cols": {
    "lenName": 16,
    "lenType": 16,
    "lenVar": 40
   },
   "kernels_config": {
    "python": {
     "delete_cmd_postfix": "",
     "delete_cmd_prefix": "del ",
     "library": "var_list.py",
     "varRefreshCmd": "print(var_dic_list())"
    },
    "r": {
     "delete_cmd_postfix": ") ",
     "delete_cmd_prefix": "rm(",
     "library": "var_list.r",
     "varRefreshCmd": "cat(var_dic_list()) "
    }
   },
   "types_to_exclude": [
    "module",
    "function",
    "builtin_function_or_method",
    "instance",
    "_Feature"
   ],
   "window_display": false
  }
 },
 "nbformat": 4,
 "nbformat_minor": 4
}
